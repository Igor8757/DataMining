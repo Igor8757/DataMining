{
 "cells": [
  {
   "cell_type": "markdown",
   "metadata": {},
   "source": [
    "# Assignment 2"
   ]
  },
  {
   "cell_type": "markdown",
   "metadata": {},
   "source": [
    "## Data Exploration"
   ]
  },
  {
   "cell_type": "code",
   "execution_count": 1,
   "metadata": {},
   "outputs": [],
   "source": [
    "import os as os\n",
    "import pandas as pd\n",
    "import matplotlib.pyplot as plt\n",
    "from sklearn import model_selection, preprocessing, linear_model, naive_bayes, metrics, svm"
   ]
  },
  {
   "cell_type": "code",
   "execution_count": 2,
   "metadata": {},
   "outputs": [],
   "source": [
    "trainPath = '../training'\n",
    "testPath = '../test'\n",
    "\n",
    "trainDir = os.listdir(trainPath)\n",
    "testDir = os.listdir(testPath)\n",
    "\n",
    "\n",
    "def getData(location):\n",
    "    lst = []\n",
    "    for directory in trainDir:\n",
    "        dataDir =  os.listdir(location + '/' + directory)\n",
    "        for fileName in dataDir:\n",
    "            fullPath =  location + '/' + directory + '/' + fileName\n",
    "            file = open(fullPath,'r')\n",
    "            lst.append([fullPath, directory, file.read()])\n",
    "            file.close()\n",
    "    return lst\n",
    "        \n",
    "traindf = pd.DataFrame(getData(trainPath), columns=['dir','category','text'])\n",
    "testdf = pd.DataFrame(getData(testPath), columns=['dir','category','text'])"
   ]
  },
  {
   "cell_type": "code",
   "execution_count": 3,
   "metadata": {},
   "outputs": [],
   "source": [
    "traindf = traindf.sample(frac=1).reset_index(drop=True)\n",
    "testdf = testdf.sample(frac=1).reset_index(drop=True)"
   ]
  },
  {
   "cell_type": "code",
   "execution_count": 4,
   "metadata": {},
   "outputs": [
    {
     "data": {
      "text/html": [
       "<div>\n",
       "<style scoped>\n",
       "    .dataframe tbody tr th:only-of-type {\n",
       "        vertical-align: middle;\n",
       "    }\n",
       "\n",
       "    .dataframe tbody tr th {\n",
       "        vertical-align: top;\n",
       "    }\n",
       "\n",
       "    .dataframe thead th {\n",
       "        text-align: right;\n",
       "    }\n",
       "</style>\n",
       "<table border=\"1\" class=\"dataframe\">\n",
       "  <thead>\n",
       "    <tr style=\"text-align: right;\">\n",
       "      <th></th>\n",
       "      <th>dir</th>\n",
       "      <th>category</th>\n",
       "      <th>text</th>\n",
       "    </tr>\n",
       "  </thead>\n",
       "  <tbody>\n",
       "    <tr>\n",
       "      <th>0</th>\n",
       "      <td>../training/C18/0000467</td>\n",
       "      <td>C18</td>\n",
       "      <td>Effects of fish oil supplements in NIDDM subje...</td>\n",
       "    </tr>\n",
       "    <tr>\n",
       "      <th>1</th>\n",
       "      <td>../training/C12/0008771</td>\n",
       "      <td>C12</td>\n",
       "      <td>Serum levels of sex hormone binding globulin a...</td>\n",
       "    </tr>\n",
       "    <tr>\n",
       "      <th>2</th>\n",
       "      <td>../training/C10/0004104</td>\n",
       "      <td>C10</td>\n",
       "      <td>Thermographic findings in cranio-facial pain.\\...</td>\n",
       "    </tr>\n",
       "    <tr>\n",
       "      <th>3</th>\n",
       "      <td>../training/C19/0004271</td>\n",
       "      <td>C19</td>\n",
       "      <td>Adrenal medullitis in type I diabetes.\\n To in...</td>\n",
       "    </tr>\n",
       "    <tr>\n",
       "      <th>4</th>\n",
       "      <td>../training/C18/0005457</td>\n",
       "      <td>C18</td>\n",
       "      <td>An unusual complication of silastic dural subs...</td>\n",
       "    </tr>\n",
       "  </tbody>\n",
       "</table>\n",
       "</div>"
      ],
      "text/plain": [
       "                       dir category  \\\n",
       "0  ../training/C18/0000467      C18   \n",
       "1  ../training/C12/0008771      C12   \n",
       "2  ../training/C10/0004104      C10   \n",
       "3  ../training/C19/0004271      C19   \n",
       "4  ../training/C18/0005457      C18   \n",
       "\n",
       "                                                text  \n",
       "0  Effects of fish oil supplements in NIDDM subje...  \n",
       "1  Serum levels of sex hormone binding globulin a...  \n",
       "2  Thermographic findings in cranio-facial pain.\\...  \n",
       "3  Adrenal medullitis in type I diabetes.\\n To in...  \n",
       "4  An unusual complication of silastic dural subs...  "
      ]
     },
     "execution_count": 4,
     "metadata": {},
     "output_type": "execute_result"
    }
   ],
   "source": [
    "traindf.head()"
   ]
  },
  {
   "cell_type": "code",
   "execution_count": 5,
   "metadata": {},
   "outputs": [
    {
     "data": {
      "text/html": [
       "<div>\n",
       "<style scoped>\n",
       "    .dataframe tbody tr th:only-of-type {\n",
       "        vertical-align: middle;\n",
       "    }\n",
       "\n",
       "    .dataframe tbody tr th {\n",
       "        vertical-align: top;\n",
       "    }\n",
       "\n",
       "    .dataframe thead th {\n",
       "        text-align: right;\n",
       "    }\n",
       "</style>\n",
       "<table border=\"1\" class=\"dataframe\">\n",
       "  <thead>\n",
       "    <tr style=\"text-align: right;\">\n",
       "      <th></th>\n",
       "      <th>dir</th>\n",
       "      <th>category</th>\n",
       "      <th>text</th>\n",
       "    </tr>\n",
       "  </thead>\n",
       "  <tbody>\n",
       "    <tr>\n",
       "      <th>0</th>\n",
       "      <td>../test/C23/0015384</td>\n",
       "      <td>C23</td>\n",
       "      <td>Bacterial overgrowth and intestinal atrophy in...</td>\n",
       "    </tr>\n",
       "    <tr>\n",
       "      <th>1</th>\n",
       "      <td>../test/C04/0014183</td>\n",
       "      <td>C04</td>\n",
       "      <td>Cyclosporine in the treatment of cutaneous T c...</td>\n",
       "    </tr>\n",
       "    <tr>\n",
       "      <th>2</th>\n",
       "      <td>../test/C23/0001248</td>\n",
       "      <td>C23</td>\n",
       "      <td>An improved technique for development of the p...</td>\n",
       "    </tr>\n",
       "    <tr>\n",
       "      <th>3</th>\n",
       "      <td>../test/C23/0014683</td>\n",
       "      <td>C23</td>\n",
       "      <td>Repeat operation for failure of antireflux pro...</td>\n",
       "    </tr>\n",
       "    <tr>\n",
       "      <th>4</th>\n",
       "      <td>../test/C02/0001895</td>\n",
       "      <td>C02</td>\n",
       "      <td>Polymerase chain reaction evidence for human i...</td>\n",
       "    </tr>\n",
       "  </tbody>\n",
       "</table>\n",
       "</div>"
      ],
      "text/plain": [
       "                   dir category  \\\n",
       "0  ../test/C23/0015384      C23   \n",
       "1  ../test/C04/0014183      C04   \n",
       "2  ../test/C23/0001248      C23   \n",
       "3  ../test/C23/0014683      C23   \n",
       "4  ../test/C02/0001895      C02   \n",
       "\n",
       "                                                text  \n",
       "0  Bacterial overgrowth and intestinal atrophy in...  \n",
       "1  Cyclosporine in the treatment of cutaneous T c...  \n",
       "2  An improved technique for development of the p...  \n",
       "3  Repeat operation for failure of antireflux pro...  \n",
       "4  Polymerase chain reaction evidence for human i...  "
      ]
     },
     "execution_count": 5,
     "metadata": {},
     "output_type": "execute_result"
    }
   ],
   "source": [
    "testdf.head()"
   ]
  },
  {
   "cell_type": "code",
   "execution_count": 6,
   "metadata": {},
   "outputs": [
    {
     "data": {
      "image/png": "[encoded data removed]",
      "text/plain": [
       "<Figure size 576x432 with 1 Axes>"
      ]
     },
     "metadata": {
      "needs_background": "light"
     },
     "output_type": "display_data"
    }
   ],
   "source": [
    "fig = plt.figure(figsize=(8,6))\n",
    "traindf.groupby('category').dir.count().plot.bar(ylim=0)\n",
    "plt.show()"
   ]
  },
  {
   "cell_type": "code",
   "execution_count": 7,
   "metadata": {},
   "outputs": [
    {
     "data": {
      "image/png": "[encoded data removed]",
      "text/plain": [
       "<Figure size 576x432 with 1 Axes>"
      ]
     },
     "metadata": {
      "needs_background": "light"
     },
     "output_type": "display_data"
    }
   ],
   "source": [
    "fig = plt.figure(figsize=(8,6))\n",
    "testdf.groupby('category').dir.count().plot.bar(ylim=0)\n",
    "plt.show()"
   ]
  },
  {
   "cell_type": "code",
   "execution_count": 8,
   "metadata": {},
   "outputs": [
    {
     "data": {
      "text/plain": [
       "CountVectorizer(analyzer='word', binary=False, decode_error='strict',\n",
       "        dtype=<class 'numpy.int64'>, encoding='latin-1', input='content',\n",
       "        lowercase=True, max_df=1.0, max_features=None, min_df=1,\n",
       "        ngram_range=(1, 1), preprocessor=None, stop_words='english',\n",
       "        strip_accents=None, token_pattern='(?u)\\\\b\\\\w\\\\w+\\\\b',\n",
       "        tokenizer=None, vocabulary=None)"
      ]
     },
     "execution_count": 8,
     "metadata": {},
     "output_type": "execute_result"
    }
   ],
   "source": [
    "from sklearn.feature_extraction.text import CountVectorizer\n",
    "from sklearn.feature_extraction.text import TfidfVectorizer\n",
    "\n",
    "vectorizer = CountVectorizer(encoding='latin-1', stop_words='english')\n",
    "vectorizer.fit(traindf['text'])"
   ]
  },
  {
   "cell_type": "code",
   "execution_count": 9,
   "metadata": {},
   "outputs": [
    {
     "name": "stdout",
     "output_type": "stream",
     "text": [
      "Top 7 words of C07: \n",
      "word\n",
      "patients       116\n",
      "treatment       57\n",
      "periodontal     45\n",
      "disease         40\n",
      "primary         38\n",
      "oral            38\n",
      "parotid         36\n",
      "Name: word, dtype: int64\n",
      "Top 7 words of C02: \n",
      "word\n",
      "patients            248\n",
      "virus               198\n",
      "hiv                 190\n",
      "infection           189\n",
      "human               138\n",
      "immunodeficiency    101\n",
      "infected             89\n",
      "Name: word, dtype: int64\n",
      "Top 7 words of C20: \n",
      "word\n",
      "patients     1095\n",
      "hiv           658\n",
      "infection     418\n",
      "cells         368\n",
      "cell          350\n",
      "aids          346\n",
      "disease       331\n",
      "Name: word, dtype: int64\n",
      "Top 7 words of C11: \n",
      "word\n",
      "patients    266\n",
      "retinal     126\n",
      "eyes        107\n",
      "eye          73\n",
      "visual       69\n",
      "disease      67\n",
      "cases        61\n",
      "Name: word, dtype: int64\n"
     ]
    }
   ],
   "source": [
    "analyze = vectorizer.build_analyzer()\n",
    "\n",
    "def wordCount(category,topWords):\n",
    "    data = []\n",
    "    categoryTexts = traindf.loc[traindf['category'] == category]\n",
    "    for text in categoryTexts['text'].values:\n",
    "        data.append(analyze(text))\n",
    "    df = pd.DataFrame([item for sublist in data for item in sublist],columns=['word'])\n",
    "    print('Top {0} words of '.format(topWords)+ category + ': ')\n",
    "    return df.groupby('word').word.count().sort_values(ascending = False)[:topWords]\n",
    "\n",
    "#fig = plt.figure(figsize=(12,10))\n",
    "print(wordCount('C07',7))\n",
    "print(wordCount('C02',7))\n",
    "print(wordCount('C20',7))\n",
    "print(wordCount('C11',7))"
   ]
  },
  {
   "cell_type": "markdown",
   "metadata": {},
   "source": [
    "## Preproccessing and Feature Extraction"
   ]
  },
  {
   "cell_type": "code",
   "execution_count": 10,
   "metadata": {},
   "outputs": [],
   "source": [
    "trainDocs = traindf['text'].values\n",
    "testDocs = testdf['text'].values\n"
   ]
  },
  {
   "cell_type": "code",
   "execution_count": 11,
   "metadata": {},
   "outputs": [
    {
     "name": "stdout",
     "output_type": "stream",
     "text": [
      "train_x shape: (10433,)\n",
      "test_x shape (12733,):\n",
      "train_y shape: (10433,)\n",
      "test_y shape (12733,):\n"
     ]
    }
   ],
   "source": [
    "#train_x, valid_x, train_y, valid_y = model_selection.train_test_split(traindf['text'], traindf['category'],test_size = 0.2)\n",
    "train_x = traindf['text'].values\n",
    "train_y = traindf['category'].values\n",
    "test_x = testdf['text'].values\n",
    "test_y = testdf['category'].values\n",
    "\n",
    "print('train_x shape: {0}'.format(train_x.shape))\n",
    "print('test_x shape {0}:'.format(testdf['text'].values.shape))\n",
    "print('train_y shape: {0}'.format(train_y.shape))\n",
    "print('test_y shape {0}:'.format(testdf['category'].values.shape))"
   ]
  },
  {
   "cell_type": "code",
   "execution_count": 12,
   "metadata": {},
   "outputs": [
    {
     "data": {
      "text/plain": [
       "(12733,)"
      ]
     },
     "execution_count": 12,
     "metadata": {},
     "output_type": "execute_result"
    }
   ],
   "source": [
    "encoder = preprocessing.LabelEncoder()\n",
    "train_y = encoder.fit_transform(train_y)\n",
    "test_y = encoder.fit_transform(test_y)\n",
    "test_y.shape"
   ]
  },
  {
   "cell_type": "markdown",
   "metadata": {},
   "source": [
    "### Count Vectors"
   ]
  },
  {
   "cell_type": "markdown",
   "metadata": {},
   "source": [
    "#### 1-Word Grams"
   ]
  },
  {
   "cell_type": "code",
   "execution_count": 13,
   "metadata": {},
   "outputs": [
    {
     "name": "stdout",
     "output_type": "stream",
     "text": [
      "(10433, 30198)\n",
      "(12733, 30198)\n"
     ]
    }
   ],
   "source": [
    "train_x_count =  vectorizer.transform(train_x)\n",
    "test_x_count =  vectorizer.transform(test_x)\n",
    "\n",
    "print(train_x_count.shape)\n",
    "print(test_x_count.shape)"
   ]
  },
  {
   "cell_type": "markdown",
   "metadata": {},
   "source": [
    "#### 2-Word Grams "
   ]
  },
  {
   "cell_type": "code",
   "execution_count": 14,
   "metadata": {},
   "outputs": [
    {
     "name": "stdout",
     "output_type": "stream",
     "text": [
      "(10433, 463008)\n",
      "(12733, 463008)\n"
     ]
    }
   ],
   "source": [
    "vectorizer2 = CountVectorizer(encoding='latin-1', stop_words='english', ngram_range=(1, 2))\n",
    "vectorizer2.fit(traindf['text'])\n",
    "analyze2 = vectorizer2.build_analyzer()\n",
    "\n",
    "train_x_count2 =  vectorizer2.transform(train_x)\n",
    "test_x_count2 =  vectorizer2.transform(test_x)\n",
    "\n",
    "print(train_x_count2.shape)\n",
    "print(test_x_count2.shape)"
   ]
  },
  {
   "cell_type": "markdown",
   "metadata": {},
   "source": [
    "### TF-IDF"
   ]
  },
  {
   "cell_type": "code",
   "execution_count": 15,
   "metadata": {},
   "outputs": [
    {
     "name": "stdout",
     "output_type": "stream",
     "text": [
      "(10433, 1076882)\n",
      "(12733, 1076882)\n"
     ]
    }
   ],
   "source": [
    "vectorizerTFIDF = TfidfVectorizer(sublinear_tf=True, max_df=0.5,analyzer='word', encoding='latin-1', stop_words='english', ngram_range=(1, 3))\n",
    "vectorizerTFIDF.fit(traindf['text'])\n",
    "analyzeTFIDF = vectorizerTFIDF.build_analyzer()\n",
    "\n",
    "train_x_tfidf =  vectorizerTFIDF.transform(train_x)\n",
    "test_x_tfidf =  vectorizerTFIDF.transform(test_x)\n",
    "\n",
    "print(train_x_tfidf.shape)\n",
    "print(test_x_tfidf.shape)"
   ]
  },
  {
   "cell_type": "code",
   "execution_count": 16,
   "metadata": {},
   "outputs": [],
   "source": [
    "import pickle"
   ]
  },
  {
   "cell_type": "markdown",
   "metadata": {},
   "source": [
    "## Model Fitting\n"
   ]
  },
  {
   "cell_type": "markdown",
   "metadata": {},
   "source": [
    "### SVM"
   ]
  },
  {
   "cell_type": "markdown",
   "metadata": {},
   "source": [
    "#### SVM with 1-gram vector :"
   ]
  },
  {
   "cell_type": "code",
   "execution_count": 17,
   "metadata": {},
   "outputs": [
    {
     "name": "stderr",
     "output_type": "stream",
     "text": [
      "H:\\Anaconda\\envs\\Deep Learning\\lib\\site-packages\\sklearn\\svm\\base.py:196: FutureWarning: The default value of gamma will change from 'auto' to 'scale' in version 0.22 to account better for unscaled features. Set gamma explicitly to 'auto' or 'scale' to avoid this warning.\n",
      "  \"avoid this warning.\", FutureWarning)\n"
     ]
    }
   ],
   "source": [
    "\n",
    "svm1= svm.SVC()\n",
    "svm1.fit(train_x_count, train_y)    \n",
    "predictions1 = svm1.predict(test_x_count)    \n",
    "acc1 = metrics.accuracy_score(predictions1, test_y)\n",
    "pickle.dump(svm1, open('svm1.pkl', 'wb'))"
   ]
  },
  {
   "cell_type": "code",
   "execution_count": 18,
   "metadata": {},
   "outputs": [
    {
     "name": "stdout",
     "output_type": "stream",
     "text": [
      "the accuarcy of SVM on 1-gram word vectors : 0.17277939213068405\n"
     ]
    }
   ],
   "source": [
    "print('the accuarcy of SVM on 1-gram word vectors : {0}'.format(acc1))"
   ]
  },
  {
   "cell_type": "markdown",
   "metadata": {},
   "source": [
    "#### SVM with 2-gram vector :"
   ]
  },
  {
   "cell_type": "code",
   "execution_count": 19,
   "metadata": {},
   "outputs": [
    {
     "name": "stdout",
     "output_type": "stream",
     "text": [
      "the accuarcy of SVM on 2-gram word vectors : 0.16908819602607397\n"
     ]
    }
   ],
   "source": [
    "svm2= svm.SVC()\n",
    "svm2.fit(train_x_count2, train_y)    \n",
    "predictions2 = svm2.predict(test_x_count2)    \n",
    "acc2 = metrics.accuracy_score(predictions2, test_y)\n",
    "print('the accuarcy of SVM on 2-gram word vectors : {0}'.format(acc2))"
   ]
  },
  {
   "cell_type": "markdown",
   "metadata": {},
   "source": [
    "#### SVM with TF-IDF vector :"
   ]
  },
  {
   "cell_type": "code",
   "execution_count": 20,
   "metadata": {},
   "outputs": [
    {
     "name": "stdout",
     "output_type": "stream",
     "text": [
      "the accuarcy of SVM on TF-IDF vectors : 0.16908819602607397\n"
     ]
    }
   ],
   "source": [
    "svm3= svm.SVC()\n",
    "svm3.fit(train_x_tfidf, train_y)    \n",
    "predictions3 = svm3.predict(test_x_tfidf)    \n",
    "acc3 = metrics.accuracy_score(predictions3, test_y)\n",
    "print('the accuarcy of SVM on TF-IDF vectors : {0}'.format(acc3))"
   ]
  },
  {
   "cell_type": "markdown",
   "metadata": {},
   "source": [
    "### Naive-Bayes"
   ]
  },
  {
   "cell_type": "markdown",
   "metadata": {},
   "source": [
    "#### Naive-Bayes with 1-gram vector :"
   ]
  },
  {
   "cell_type": "code",
   "execution_count": 21,
   "metadata": {},
   "outputs": [
    {
     "name": "stdout",
     "output_type": "stream",
     "text": [
      "the accuarcy of Naive-Bayes on 1-gram word vectors : 0.4062671797691039\n"
     ]
    }
   ],
   "source": [
    "nb1 = naive_bayes.MultinomialNB()\n",
    "nb1.fit(train_x_count, train_y)    \n",
    "predictions4 = nb1.predict(test_x_count)    \n",
    "acc4 = metrics.accuracy_score(predictions4, test_y)\n",
    "print('the accuarcy of Naive-Bayes on 1-gram word vectors : {0}'.format(acc4))\n",
    "pickle.dump(nb1, open('nb1.pkl', 'wb'))"
   ]
  },
  {
   "cell_type": "markdown",
   "metadata": {},
   "source": [
    "#### Naive-Bayes with 2-gram vector :"
   ]
  },
  {
   "cell_type": "code",
   "execution_count": 22,
   "metadata": {},
   "outputs": [
    {
     "name": "stdout",
     "output_type": "stream",
     "text": [
      "the accuarcy of Naive-Bayes on 2-gram word vectors : 0.3145370297651771\n"
     ]
    }
   ],
   "source": [
    "nb2 = naive_bayes.MultinomialNB()\n",
    "nb2.fit(train_x_count2, train_y)    \n",
    "predictions5 = nb2.predict(test_x_count2)    \n",
    "acc5 = metrics.accuracy_score(predictions5, test_y)\n",
    "print('the accuarcy of Naive-Bayes on 2-gram word vectors : {0}'.format(acc5))"
   ]
  },
  {
   "cell_type": "markdown",
   "metadata": {},
   "source": [
    "#### Naive-Bayes with TF-IDF  vector :"
   ]
  },
  {
   "cell_type": "code",
   "execution_count": 23,
   "metadata": {},
   "outputs": [
    {
     "name": "stdout",
     "output_type": "stream",
     "text": [
      "the accuarcy of Naive-Bayes on TF-IDF vectors : 0.22649807586586038\n"
     ]
    }
   ],
   "source": [
    "nb3 = naive_bayes.MultinomialNB()\n",
    "nb3.fit(train_x_tfidf, train_y)    \n",
    "predictions6 = nb3.predict(test_x_tfidf)    \n",
    "acc6 = metrics.accuracy_score(predictions6, test_y)\n",
    "print('the accuarcy of Naive-Bayes on TF-IDF vectors : {0}'.format(acc6))"
   ]
  },
  {
   "cell_type": "markdown",
   "metadata": {},
   "source": [
    "### Linear Regression"
   ]
  },
  {
   "cell_type": "markdown",
   "metadata": {},
   "source": [
    "#### Linear Regression with 1-gram vector :"
   ]
  },
  {
   "cell_type": "code",
   "execution_count": 24,
   "metadata": {},
   "outputs": [
    {
     "name": "stderr",
     "output_type": "stream",
     "text": [
      "H:\\Anaconda\\envs\\Deep Learning\\lib\\site-packages\\sklearn\\linear_model\\logistic.py:432: FutureWarning: Default solver will be changed to 'lbfgs' in 0.22. Specify a solver to silence this warning.\n",
      "  FutureWarning)\n",
      "H:\\Anaconda\\envs\\Deep Learning\\lib\\site-packages\\sklearn\\linear_model\\logistic.py:459: FutureWarning: Default multi_class will be changed to 'auto' in 0.22. Specify the multi_class option to silence this warning.\n",
      "  \"this warning.\", FutureWarning)\n"
     ]
    },
    {
     "name": "stdout",
     "output_type": "stream",
     "text": [
      "the accuarcy of Naive-Bayes on 1-gram word vectors : 0.42857142857142855\n"
     ]
    }
   ],
   "source": [
    "lr1 = linear_model.LogisticRegression()\n",
    "lr1.fit(train_x_count, train_y)    \n",
    "predictions7 = lr1.predict(test_x_count)    \n",
    "acc7 = metrics.accuracy_score(predictions7, test_y)\n",
    "print('the accuarcy of Naive-Bayes on 1-gram word vectors : {0}'.format(acc7))"
   ]
  },
  {
   "cell_type": "markdown",
   "metadata": {},
   "source": [
    "#### Linear Regression with 2-gram vector :"
   ]
  },
  {
   "cell_type": "code",
   "execution_count": 25,
   "metadata": {},
   "outputs": [
    {
     "name": "stdout",
     "output_type": "stream",
     "text": [
      "the accuarcy of Naive-Bayes on 2-gram word vectors : 0.44977617215110344\n"
     ]
    }
   ],
   "source": [
    "lr2 = linear_model.LogisticRegression()\n",
    "lr2.fit(train_x_count2, train_y)    \n",
    "predictions8 = lr2.predict(test_x_count2)    \n",
    "acc8 = metrics.accuracy_score(predictions8, test_y)\n",
    "print('the accuarcy of Naive-Bayes on 2-gram word vectors : {0}'.format(acc8))\n",
    "pickle.dump(lr2, open('lr2.pkl', 'wb'))"
   ]
  },
  {
   "cell_type": "markdown",
   "metadata": {},
   "source": [
    "#### Linear Regression with TF-IDF vector :"
   ]
  },
  {
   "cell_type": "code",
   "execution_count": 26,
   "metadata": {},
   "outputs": [
    {
     "name": "stdout",
     "output_type": "stream",
     "text": [
      "the accuarcy of Naive-Bayes on 2-gram word vectors : 0.3452446399120396\n"
     ]
    }
   ],
   "source": [
    "lr3 = linear_model.LogisticRegression()\n",
    "lr3.fit(train_x_tfidf, train_y)    \n",
    "predictions9 = lr3.predict(test_x_tfidf)    \n",
    "acc9 = metrics.accuracy_score(predictions9, test_y)\n",
    "print('the accuarcy of Naive-Bayes on 2-gram word vectors : {0}'.format(acc9))"
   ]
  },
  {
   "cell_type": "markdown",
   "metadata": {},
   "source": [
    "## The Challenges & Summary:\n"
   ]
  },
  {
   "cell_type": "markdown",
   "metadata": {},
   "source": [
    "We saw that the data set contains 23 categories, the dataset is not balanced well as we can see that one category contains about 2000 samples while others contain much less samples - as low as 50 samples. This impacts the results very hard. Also, in some categories the most popular words are the same such as patient.\n",
    "These reasons may contribute to the pretty low accuarcy of the models as the best we could reach was 44% acc\n",
    "with Linear Regression model and the 2-gram words vector.\n",
    "\n",
    "We could try to run sentiment analysis to see if with this distribution of samples we could get maybe better results."
   ]
  },
  {
   "cell_type": "code",
   "execution_count": null,
   "metadata": {},
   "outputs": [],
   "source": []
  }
 ],
 "metadata": {
  "kernelspec": {
   "display_name": "Python 3",
   "language": "python",
   "name": "python3"
  },
  "language_info": {
   "codemirror_mode": {
    "name": "ipython",
    "version": 3
   },
   "file_extension": ".py",
   "mimetype": "text/x-python",
   "name": "python",
   "nbconvert_exporter": "python",
   "pygments_lexer": "ipython3",
   "version": "3.6.6"
  }
 },
 "nbformat": 4,
 "nbformat_minor": 2
}
